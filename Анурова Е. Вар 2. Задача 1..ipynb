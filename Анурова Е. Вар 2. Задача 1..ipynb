{
 "cells": [
  {
   "cell_type": "code",
   "execution_count": 1,
   "id": "46ba1d15",
   "metadata": {},
   "outputs": [],
   "source": [
    "import numpy as np\n",
    "import math\n",
    "import matplotlib.pyplot as plt\n",
    "import scipy.special as sp\n",
    "import pandas as pd\n",
    "from decimal import Decimal"
   ]
  },
  {
   "cell_type": "markdown",
   "id": "d8993974",
   "metadata": {},
   "source": [
    "Точка 1. x=pi"
   ]
  },
  {
   "cell_type": "code",
   "execution_count": 3,
   "id": "6cf1cd61",
   "metadata": {},
   "outputs": [
    {
     "name": "stdout",
     "output_type": "stream",
     "text": [
      "4.38269654872169e-13\n",
      "13\n"
     ]
    }
   ],
   "source": [
    "refer = -1/math.pi\n",
    "def fact(n):\n",
    "    f=1\n",
    "    for i in range(2, n+1):\n",
    "        f=f*i\n",
    "    return f\n",
    "x = math.pi\n",
    "coef = []\n",
    "sum = 1\n",
    "n = 0\n",
    "while abs(sum) >= 1e-12:\n",
    "    sum = (-1)**n*x**(2*n-1)/fact(2*n)\n",
    "    coef.append(sum)\n",
    "    n+=1\n",
    "print(sum)\n",
    "print(n)"
   ]
  },
  {
   "cell_type": "markdown",
   "id": "b2af316d",
   "metadata": {},
   "source": [
    "\"Наивное\" суммирование"
   ]
  },
  {
   "cell_type": "code",
   "execution_count": 5,
   "id": "b0ed8a04",
   "metadata": {},
   "outputs": [
    {
     "name": "stdout",
     "output_type": "stream",
     "text": [
      "-0.31830988618378414 6.5503158452884236e-15\n"
     ]
    }
   ],
   "source": [
    "refer = -1/math.pi\n",
    "sm1= 0\n",
    "for i in range(n):\n",
    "    sm1+=coef[i]\n",
    "print(sm1, sm1-refer)"
   ]
  },
  {
   "cell_type": "markdown",
   "id": "b940ba67",
   "metadata": {},
   "source": [
    "Суммирование в порядке возрастания слагаемых"
   ]
  },
  {
   "cell_type": "code",
   "execution_count": 6,
   "id": "cd1e9796",
   "metadata": {},
   "outputs": [
    {
     "name": "stdout",
     "output_type": "stream",
     "text": [
      "-0.3183098861837841 6.6058269965196814e-15\n"
     ]
    }
   ],
   "source": [
    "coef.sort()\n",
    "sm2=0\n",
    "for i in range(n):\n",
    "    sm2+=coef[i]\n",
    "print(sm2, sm2-refer)"
   ]
  },
  {
   "cell_type": "markdown",
   "id": "d489e68b",
   "metadata": {},
   "source": [
    "Алгоритм суммирования по Кэхену"
   ]
  },
  {
   "cell_type": "code",
   "execution_count": 8,
   "id": "cf01da93",
   "metadata": {},
   "outputs": [
    {
     "name": "stdout",
     "output_type": "stream",
     "text": [
      "-0.3183098861837841 6.6058269965196814e-15\n"
     ]
    }
   ],
   "source": [
    "kahan_sum = 0\n",
    "c=0\n",
    "for i in range(n):\n",
    "    y = coef[i]-c\n",
    "    t = kahan_sum + y\n",
    "    z = t - kahan_sum\n",
    "    c = z - y\n",
    "    kahan_sum = t\n",
    "print(kahan_sum, kahan_sum-refer)"
   ]
  },
  {
   "cell_type": "markdown",
   "id": "5d2b035d",
   "metadata": {},
   "source": [
    "Точка 2. x=9pi"
   ]
  },
  {
   "cell_type": "code",
   "execution_count": 9,
   "id": "a8267a6e",
   "metadata": {},
   "outputs": [
    {
     "name": "stdout",
     "output_type": "stream",
     "text": [
      "1.4765037646652208e-13\n",
      "51\n"
     ]
    }
   ],
   "source": [
    "refer2=-1/(9*math.pi)\n",
    "x1 = 9*math.pi\n",
    "coef1 = []\n",
    "summ = 1\n",
    "n1 = 0\n",
    "while abs(summ) >= 1e-12:\n",
    "    summ = (-1)**n1*x1**(2*n1)/fact(2*n1)\n",
    "    coef1.append(summ)\n",
    "    n1+=1\n",
    "print(summ)\n",
    "print(n1)"
   ]
  },
  {
   "cell_type": "markdown",
   "id": "1429f8c2",
   "metadata": {},
   "source": [
    "\"Наивное\" суммирование"
   ]
  },
  {
   "cell_type": "code",
   "execution_count": 10,
   "id": "641ea729",
   "metadata": {},
   "outputs": [
    {
     "name": "stdout",
     "output_type": "stream",
     "text": [
      "-0.9999830491227661 -0.9646152839912339\n"
     ]
    }
   ],
   "source": [
    "sm1 = 0\n",
    "for i in range(n1):\n",
    "    sm1+=coef1[i]\n",
    "print(sm1, sm1-refer2)"
   ]
  },
  {
   "cell_type": "markdown",
   "id": "176e35fd",
   "metadata": {},
   "source": [
    "Суммирование в порядке возрастания слагаемых"
   ]
  },
  {
   "cell_type": "code",
   "execution_count": 11,
   "id": "24930222",
   "metadata": {},
   "outputs": [
    {
     "name": "stdout",
     "output_type": "stream",
     "text": [
      "-1.000091552734375 -0.9647237876028427\n"
     ]
    }
   ],
   "source": [
    "coef1.sort()\n",
    "sm2 = 0\n",
    "for i in range(n1):\n",
    "    sm2+=coef1[i]\n",
    "print(sm2, sm2-refer2)"
   ]
  },
  {
   "cell_type": "markdown",
   "id": "050f9fdd",
   "metadata": {},
   "source": [
    "Алгоритм суммирования по Кэхену"
   ]
  },
  {
   "cell_type": "code",
   "execution_count": 12,
   "id": "9c41489c",
   "metadata": {},
   "outputs": [
    {
     "name": "stdout",
     "output_type": "stream",
     "text": [
      "-1.0 -0.9646322348684677\n"
     ]
    }
   ],
   "source": [
    "kahan_sum1 = 0\n",
    "c1 = 0\n",
    "for i in range(n1):\n",
    "    y1 = coef1[i]-c1\n",
    "    t1 = kahan_sum1 + y1\n",
    "    z1 = t1 - kahan_sum1\n",
    "    c1 = z1 - y1\n",
    "    kahan_sum1 = t1\n",
    "print(kahan_sum1, kahan_sum1-refer2)"
   ]
  },
  {
   "cell_type": "code",
   "execution_count": null,
   "id": "ab219238",
   "metadata": {},
   "outputs": [],
   "source": []
  }
 ],
 "metadata": {
  "kernelspec": {
   "display_name": "Python 3 (ipykernel)",
   "language": "python",
   "name": "python3"
  },
  "language_info": {
   "codemirror_mode": {
    "name": "ipython",
    "version": 3
   },
   "file_extension": ".py",
   "mimetype": "text/x-python",
   "name": "python",
   "nbconvert_exporter": "python",
   "pygments_lexer": "ipython3",
   "version": "3.10.9"
  }
 },
 "nbformat": 4,
 "nbformat_minor": 5
}
