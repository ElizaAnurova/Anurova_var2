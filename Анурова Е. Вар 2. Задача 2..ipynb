{
 "cells": [
  {
   "cell_type": "code",
   "execution_count": 8,
   "id": "f005a1c8",
   "metadata": {},
   "outputs": [],
   "source": [
    "import numpy as np\n",
    "import math\n",
    "import matplotlib.pyplot as plt\n",
    "import scipy.special as sp\n",
    "import pandas as pd\n",
    "from decimal import Decimal"
   ]
  },
  {
   "cell_type": "code",
   "execution_count": 9,
   "id": "e8cbc219",
   "metadata": {},
   "outputs": [],
   "source": [
    "def fact(n):\n",
    "    f=1\n",
    "    for i in range(2, n+1):\n",
    "        f=f*i\n",
    "    return f"
   ]
  },
  {
   "cell_type": "code",
   "execution_count": 10,
   "id": "1962d7d3",
   "metadata": {},
   "outputs": [],
   "source": [
    "data = pd.DataFrame(columns=['x_i','n','sum1','sum2'])\n",
    "\n",
    "x = -10\n",
    "for i in range(100):\n",
    "    coef2 = []\n",
    "    sum = 1\n",
    "    n = 0\n",
    "\n",
    "    while abs(sum) >= 1e-8 and n<100:\n",
    "        sum = 2/math.pi**0/5*(-1)**n*x**(2*n+1)/(fact(n)*(2*n+1))\n",
    "        coef2.append(sum)\n",
    "        n+=1\n",
    "    sum_1 = 0\n",
    "    if n >= 100:\n",
    "        n = 100\n",
    "        \n",
    "    for i in range(n):\n",
    "        sum_1+=coef2[i]\n",
    "        \n",
    "    \n",
    "    coef2.sort()\n",
    "    sum_2=0\n",
    "    for i in range(n):\n",
    "        sum_2+=coef2[i]\n",
    "    \n",
    "    \n",
    "    result = ['{:.15f}'.format(x),'{:.15f}'.format(n),'{:.15f}'.format(sum_1),'{:.15f}'.format(sum_2)]\n",
    "    data.loc[len(data)] = result\n",
    "    x+=0.2"
   ]
  },
  {
   "cell_type": "code",
   "execution_count": 11,
   "id": "72657dd1",
   "metadata": {},
   "outputs": [],
   "source": [
    "data['sum1']=data['sum1'].astype(float)\n",
    "data['sum2']=data['sum2'].astype(float)\n",
    "data.to_csv('out.csv')"
   ]
  },
  {
   "cell_type": "code",
   "execution_count": null,
   "id": "c7f07a16",
   "metadata": {},
   "outputs": [],
   "source": []
  }
 ],
 "metadata": {
  "kernelspec": {
   "display_name": "Python 3 (ipykernel)",
   "language": "python",
   "name": "python3"
  },
  "language_info": {
   "codemirror_mode": {
    "name": "ipython",
    "version": 3
   },
   "file_extension": ".py",
   "mimetype": "text/x-python",
   "name": "python",
   "nbconvert_exporter": "python",
   "pygments_lexer": "ipython3",
   "version": "3.10.9"
  }
 },
 "nbformat": 4,
 "nbformat_minor": 5
}
